{
 "cells": [
  {
   "cell_type": "code",
   "execution_count": null,
   "id": "vocal-grove",
   "metadata": {},
   "outputs": [],
   "source": [
    "import pandas as pd\n",
    "import networkx as nx\n",
    "import json\n",
    "import pickle"
   ]
  },
  {
   "cell_type": "code",
   "execution_count": null,
   "id": "specific-salem",
   "metadata": {},
   "outputs": [],
   "source": [
    "sc_df = pd.read_csv(\"../gwas/scz-2022-02-11.csv\")\n",
    "bp_df = pd.read_csv(\"../gwas/bpd-2022-02-11.csv\")\n",
    "dm_df = pd.read_csv(\"../gwas/dm-2022-02-25.csv\")"
   ]
  },
  {
   "cell_type": "code",
   "execution_count": null,
   "id": "hungarian-airfare",
   "metadata": {},
   "outputs": [],
   "source": [
    "temp = sc_df[~sc_df[\"Mapped gene\"].isna()].copy()\n",
    "t2 = temp[temp[\"Mapped gene\"] != \"'-\"].copy()\n",
    "t2[\"Mapped gene\"] = t2[\"Mapped gene\"].str.split(\", \")\n",
    "sc_proc = t2.explode(\"Mapped gene\").reset_index()\n",
    "\n",
    "temp = bp_df[~bp_df[\"Mapped gene\"].isna()].copy()\n",
    "t2 = temp[temp[\"Mapped gene\"] != \"'-\"].copy()\n",
    "t2[\"Mapped gene\"] = t2[\"Mapped gene\"].str.split(\", \")\n",
    "bp_proc = t2.explode(\"Mapped gene\").reset_index()\n",
    "\n",
    "temp = dm1_df[~dm1_df[\"Mapped gene\"].isna()].copy()\n",
    "t2 = temp[temp[\"Mapped gene\"] != \"'-\"].copy()\n",
    "t2[\"Mapped gene\"] = t2[\"Mapped gene\"].str.split(\", \")\n",
    "dm_proc = t2.explode(\"Mapped gene\").reset_index()"
   ]
  },
  {
   "cell_type": "code",
   "execution_count": null,
   "id": "confidential-blast",
   "metadata": {},
   "outputs": [],
   "source": [
    "sc_proc[\"pval_num\"] = sc_proc[\"P-value\"].apply(lambda x: float(int(x.split(\" x 10-\")[0]) * 10**-int(x.split(\" x 10-\")[1])))\n",
    "bp_proc[\"pval_num\"] = bp_proc[\"P-value\"].apply(lambda x: float(int(x.split(\" x 10-\")[0]) * 10**-int(x.split(\" x 10-\")[1])))\n",
    "dm_proc[\"pval_num\"] = dm_proc[\"P-value\"].apply(lambda x: float(int(x.split(\" x 10-\")[0]) * 10**-int(x.split(\" x 10-\")[1])))"
   ]
  },
  {
   "cell_type": "code",
   "execution_count": null,
   "id": "static-genetics",
   "metadata": {},
   "outputs": [],
   "source": [
    "sc_sig = sc_proc[sc_proc[\"pval_num\"] <= float(5 * 10**-8)]\n",
    "bp_sig = bp_proc[bp_proc[\"pval_num\"] <= float(5 * 10**-8)]\n",
    "dm_sig = dm_proc[dm_proc[\"pval_num\"] <= float(5 * 10**-8)]"
   ]
  },
  {
   "cell_type": "code",
   "execution_count": null,
   "id": "placed-notebook",
   "metadata": {},
   "outputs": [],
   "source": [
    "sc_geneset = set(sc_proc[\"Mapped gene\"])\n",
    "bp_geneset = set(bp_proc[\"Mapped gene\"])\n",
    "dm_geneset = set(dm_proc[\"Mapped gene\"])"
   ]
  },
  {
   "cell_type": "code",
   "execution_count": null,
   "id": "advanced-might",
   "metadata": {},
   "outputs": [],
   "source": [
    "sc_bel_df = pd.read_table(\"../bel_graphs/schizophrenia_kg.tsv\")\n",
    "bp_bel_df = pd.read_table(\"../bel_graphs/bipolar_disorder_kg.tsv\")\n",
    "dm_bel_df = pd.read_table(\"../bel_graphs/t2dm_kg.tsv\")\n",
    "\n",
    "scbp_bel_df = sc_bel_df.copy()\n",
    "scbp_bel_df = scbp_bel_df.append(bp_bel_df.copy())"
   ]
  },
  {
   "cell_type": "code",
   "execution_count": null,
   "id": "smoking-vehicle",
   "metadata": {},
   "outputs": [],
   "source": [
    "sc_count = 0\n",
    "sc_kg_set = []\n",
    "bp_count = 0\n",
    "bp_kg_set = []\n",
    "scbp_count = 0\n",
    "scbp_kg_set = []\n",
    "\n",
    "for gene in sc_geneset.intersection(bp_geneset):\n",
    "    if any(sc_bel_df[\"source\"].str.contains(gene)):\n",
    "        sc_count += 1\n",
    "        sc_kg_set.append(gene)\n",
    "        continue\n",
    "    if any(sc_bel_df[\"target\"].str.contains(gene)):\n",
    "        sc_count += 1\n",
    "        sc_kg_set.append(gene)\n",
    "        continue\n",
    "\n",
    "for gene in sc_geneset.intersection(bp_geneset):\n",
    "    if any(bp_bel_df[\"source\"].str.contains(gene)):\n",
    "        bp_count += 1\n",
    "        bp_kg_set.append(gene)\n",
    "        continue\n",
    "    if any(bp_bel_df[\"target\"].str.contains(gene)):\n",
    "        bp_count += 1\n",
    "        bp_kg_set.append(gene)\n",
    "        continue\n",
    "\n",
    "for gene in sc_geneset.intersection(bp_geneset):\n",
    "    if any(scbp_bel_df[\"source\"].str.contains(gene)):\n",
    "        scbp_count += 1\n",
    "        scbp_kg_set.append(gene)\n",
    "        continue\n",
    "    if any(scbp_bel_df[\"target\"].str.contains(gene)):\n",
    "        scbp_count += 1\n",
    "        scbp_kg_set.append(gene)\n",
    "        continue\n",
    "\n",
    "for gene in scbp_kg_set:\n",
    "    if gene in dm_geneset:\n",
    "        dm_count += 1\n",
    "        dm_kg_set.append(gene)"
   ]
  },
  {
   "cell_type": "code",
   "execution_count": null,
   "id": "lightweight-karaoke",
   "metadata": {},
   "outputs": [],
   "source": [
    "with open(\"scz_gwas_geneset.json\", \"w\") as f:\n",
    "    json.dump(list(sc_kg_set), f)\n",
    "\n",
    "with open(\"bpd_gwas_geneset.json\", \"w\") as f:\n",
    "    json.dump(list(bp_kg_set), f)\n",
    "\n",
    "with open(\"scz_bpd_gwas_geneset.json\", \"w\") as f:\n",
    "    json.dump(list(scbp_kg_set), f)\n",
    "    \n",
    "with open(\"dm_gwas_geneset.json\", \"w\") as f:\n",
    "    json.dump(list(dm_kg_set), f)"
   ]
  },
  {
   "cell_type": "code",
   "execution_count": null,
   "id": "twelve-haiti",
   "metadata": {},
   "outputs": [],
   "source": [
    "from scipy.stats import fisher_exact\n",
    "\n",
    "fisher_table = [[len(sc_geneset.intersection(bp_geneset)), len(sc_geneset-bp_geneset)], [len(bp_geneset-sc_geneset), len(sc_geneset.union(bp_geneset))]]\n",
    "                \n",
    "oddsratio, pvalue = fisher_exact(fisher_table)     "
   ]
  },
  {
   "cell_type": "code",
   "execution_count": null,
   "id": "protected-proxy",
   "metadata": {},
   "outputs": [],
   "source": [
    "pvalue"
   ]
  }
 ],
 "metadata": {
  "kernelspec": {
   "display_name": "Python 3",
   "language": "python",
   "name": "python3"
  },
  "language_info": {
   "codemirror_mode": {
    "name": "ipython",
    "version": 3
   },
   "file_extension": ".py",
   "mimetype": "text/x-python",
   "name": "python",
   "nbconvert_exporter": "python",
   "pygments_lexer": "ipython3",
   "version": "3.7.8"
  }
 },
 "nbformat": 4,
 "nbformat_minor": 5
}
