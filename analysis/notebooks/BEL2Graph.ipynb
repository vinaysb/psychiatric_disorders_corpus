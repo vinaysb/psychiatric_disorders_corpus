{
 "cells": [
  {
   "cell_type": "code",
   "execution_count": null,
   "id": "taken-intermediate",
   "metadata": {},
   "outputs": [],
   "source": [
    "import networkx as nx\n",
    "import pandas as pd\n",
    "import pybel\n",
    "import os\n",
    "from tqdm import tqdm\n",
    "from pybel.dsl import BaseConcept, CentralDogma"
   ]
  },
  {
   "cell_type": "code",
   "execution_count": null,
   "id": "realistic-monthly",
   "metadata": {},
   "outputs": [],
   "source": [
    "auto_bel_df = pd.read_table(\"../auto_bel.tsv\")\n",
    "\n",
    "auto_bel_df[\"source\"] = auto_bel_df[\"Subject\"].str.replace(\"UNKNOWN:\", \"! \").str.replace('\"', '').str.extract(r'(?<=!\\ )([\\s\\S]*)(?=\\))')[0]\n",
    "auto_bel_df[\"relation\"] = auto_bel_df[\"Relation\"]\n",
    "auto_bel_df[\"target\"] = auto_bel_df[\"Object\"].str.replace(\"UNKNOWN:\", \"! \").str.replace('\"', '').str.extract(r'(?<=!\\ )([\\s\\S]*)(?=\\))')[0]"
   ]
  },
  {
   "cell_type": "code",
   "execution_count": null,
   "id": "expired-impact",
   "metadata": {},
   "outputs": [],
   "source": [
    "sc_only = auto_bel_df[(auto_bel_df[\"source\"] == \"Schizophrenia\") | (auto_bel_df[\"target\"] == \"Schizophrenia\")].copy()\n",
    "bp_only = auto_bel_df[(auto_bel_df[\"source\"] == \"Bipolar disorder\") | (auto_bel_df[\"target\"] == \"Bipolar disorder\")].copy()"
   ]
  },
  {
   "cell_type": "code",
   "execution_count": null,
   "id": "federal-reform",
   "metadata": {},
   "outputs": [],
   "source": [
    "intersection = sc_only.loc[sc_only.index.intersection(bp_only.index), :].copy()\n",
    "sc_only = sc_only.loc[sc_only.index.difference(intersection.index), :].copy()\n",
    "bp_only = bp_only.loc[bp_only.index.difference(intersection.index), :].copy()\n",
    "\n",
    "sc_only[\"Data_Source\"] = \"Auto\"\n",
    "bp_only[\"Data_Source\"] = \"Auto\""
   ]
  },
  {
   "cell_type": "code",
   "execution_count": null,
   "id": "creative-banana",
   "metadata": {},
   "outputs": [],
   "source": [
    "common_df = auto_bel_df.loc[auto_bel_df.index.difference(sc_only.index), :].copy()\n",
    "common_df = common_df.loc[common_df.index.difference(bp_only.index), :].copy()\n",
    "common_df = common_df.append(intersection)\n",
    "common_df[\"Data_Source\"] = \"Auto\""
   ]
  },
  {
   "cell_type": "code",
   "execution_count": null,
   "id": "unable-catalyst",
   "metadata": {},
   "outputs": [],
   "source": [
    "HERE = os.path.abspath(os.path.dirname('__file__'))\n",
    "\n",
    "def get_cached_bel_files(directory):\n",
    "    \"\"\"Return a graph with all bel files.\"\"\"\n",
    "    \n",
    "    BEL_DIRECTORY = os.path.abspath(\n",
    "        os.path.join(HERE, os.pardir, directory),\n",
    "    )\n",
    "\n",
    "    graphs = []\n",
    "        \n",
    "    for filename in tqdm(os.listdir(BEL_DIRECTORY)):\n",
    "                \n",
    "        if not filename.endswith(\".bel\"):\n",
    "            continue\n",
    "            \n",
    "        graphs.append(\n",
    "            pybel.from_bel_script(\n",
    "                os.path.join(BEL_DIRECTORY, filename),\n",
    "                **{\n",
    "                    'no_identifier_validation': True,\n",
    "                    'allow_naked_names': True,\n",
    "                    'allow_definition_failures': True,\n",
    "                }\n",
    "            )   \n",
    "        )\n",
    "            \n",
    "    return pybel.union(graphs)"
   ]
  },
  {
   "cell_type": "code",
   "execution_count": null,
   "id": "fleet-conditions",
   "metadata": {},
   "outputs": [],
   "source": [
    "DATASET = \"schizophrenia\"\n",
    "OUTPUT_NAME = \"sc_bel\"\n",
    "\n",
    "bel_kg = get_cached_bel_files(directory=DATASET)\n",
    "\n",
    "pybel.to_csv(bel_kg, f\"./{OUTPUT_NAME}.tsv\", sep='\\t')\n",
    "\n",
    "not_hgnc = pybel.struct.filters.invert_node_predicate((pybel.struct.filters.namespace_inclusion_builder(\"HGNC\")))\n",
    "\n",
    "pybel.struct.mutation.deletion.remove_filtered_nodes(bel_kg, node_predicates=[not_hgnc])\n",
    "\n",
    "df = nx.to_pandas_edgelist(bel_kg, source='source', target='target')\n",
    "\n",
    "df.source = df.source.apply(lambda x: x.name)\n",
    "df.target = df.target.apply(lambda x: x.name)\n",
    "\n",
    "df = df[['source', 'relation', 'target']]\n",
    "df.to_csv(f\"../bel_graphs/processed_{OUTPUT_NAME}.tsv\", sep='\\t', index=False)"
   ]
  },
  {
   "cell_type": "code",
   "execution_count": null,
   "id": "comfortable-spoke",
   "metadata": {},
   "outputs": [],
   "source": [
    "sc_bel_df = pd.read_table(\"processed_sc_bel.tsv\")\n",
    "sc_bel_df[\"Data_Source\"] = \"Manual\"\n",
    "\n",
    "sc_bel_df = sc_bel_df.append(common_df, ignore_index=True)\n",
    "sc_bel_df = sc_bel_df.append(sc_only, ignore_index=True)\n",
    "\n",
    "sc_bel_df.to_csv(\"../bel_graphs/schizophrenia_kg.tsv\", sep='\\t', index=False)"
   ]
  },
  {
   "cell_type": "code",
   "execution_count": null,
   "id": "intellectual-factor",
   "metadata": {},
   "outputs": [],
   "source": [
    "DATASET = \"bipolar_disorder\"\n",
    "OUTPUT_NAME = \"bp_bel\"\n",
    "\n",
    "bel_kg = get_cached_bel_files(directory=DATASET)\n",
    "\n",
    "pybel.to_csv(bel_kg, f\"./{OUTPUT_NAME}.tsv\", sep='\\t')\n",
    "\n",
    "not_hgnc = pybel.struct.filters.invert_node_predicate((pybel.struct.filters.namespace_inclusion_builder(\"HGNC\")))\n",
    "\n",
    "pybel.struct.mutation.deletion.remove_filtered_nodes(bel_kg, node_predicates=[not_hgnc])\n",
    "\n",
    "df = nx.to_pandas_edgelist(bel_kg, source='source', target='target')\n",
    "\n",
    "df.source = df.source.apply(lambda x: x.name)\n",
    "df.target = df.target.apply(lambda x: x.name)\n",
    "\n",
    "df = df[['source', 'relation', 'target']]\n",
    "df.to_csv(f\"../bel_graphs/processed_{OUTPUT_NAME}.tsv\", sep='\\t', index=False)"
   ]
  },
  {
   "cell_type": "code",
   "execution_count": null,
   "id": "signed-newman",
   "metadata": {},
   "outputs": [],
   "source": [
    "bp_bel_df = pd.read_table(\"processed_bp_bel.tsv\")\n",
    "bp_bel_df[\"Data_Source\"] = \"Manual\"\n",
    "\n",
    "bp_bel_df = bp_bel_df.append(common_df, ignore_index=True)\n",
    "bp_bel_df = bp_bel_df.append(bp_only, ignore_index=True)\n",
    "\n",
    "bp_bel_df.to_csv(\"../bel_graphs/bipolar_disorder_kg.tsv\", sep='\\t', index=False)"
   ]
  },
  {
   "cell_type": "code",
   "execution_count": null,
   "id": "destroyed-multiple",
   "metadata": {},
   "outputs": [],
   "source": [
    "auto_diabetes = auto_bel_df[(auto_bel_df[\"source\"].str.contains(\"diabetes\")) | (auto_bel_df[\"target\"].str.contains(\"diabetes\"))].copy()\n",
    "auto_diabetes[\"Data_Source\"] = \"Auto\"\n",
    "\n",
    "diabetes_df = pd.read_table(\"../../bel_processing/bel_graphs/processed_diabetes_bel.tsv\")\n",
    "diabetes_df[\"Data_Source\"] = \"Manual\"\n",
    "\n",
    "diabetes_df = diabetes_df.append(auto_diabetes, ignore_index=True)\n",
    "diabetes_df.to_csv(\"../bel_graphs/t2dm_kg.tsv\", sep='\\t', index=False)"
   ]
  }
 ],
 "metadata": {
  "kernelspec": {
   "display_name": "Python 3",
   "language": "python",
   "name": "python3"
  },
  "language_info": {
   "codemirror_mode": {
    "name": "ipython",
    "version": 3
   },
   "file_extension": ".py",
   "mimetype": "text/x-python",
   "name": "python",
   "nbconvert_exporter": "python",
   "pygments_lexer": "ipython3",
   "version": "3.7.8"
  }
 },
 "nbformat": 4,
 "nbformat_minor": 5
}
