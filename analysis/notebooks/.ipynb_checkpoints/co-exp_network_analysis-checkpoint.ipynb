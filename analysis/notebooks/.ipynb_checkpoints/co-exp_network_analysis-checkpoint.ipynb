{
 "cells": [
  {
   "cell_type": "code",
   "execution_count": null,
   "id": "cubic-region",
   "metadata": {},
   "outputs": [],
   "source": [
    "import networkx as nx\n",
    "import pandas as pd\n",
    "from ora import run_ora, gmt_parser\n",
    "import numpy as np\n",
    "import gseapy\n",
    "import pickle\n",
    "import igraph\n",
    "import json"
   ]
  },
  {
   "cell_type": "markdown",
   "id": "broad-nicholas",
   "metadata": {},
   "source": [
    "## Edges"
   ]
  },
  {
   "cell_type": "code",
   "execution_count": null,
   "id": "relevant-supervision",
   "metadata": {},
   "outputs": [],
   "source": [
    "def edge_overlap(networks):\n",
    "    temp = []\n",
    "    \n",
    "    for network in networks:\n",
    "        x = set()\n",
    "        \n",
    "        for i in set(network.edges):\n",
    "            if len(np.unique(i)) == 1:\n",
    "                continue\n",
    "            x.add(i)\n",
    "        \n",
    "        temp.append(x)\n",
    "            \n",
    "    edges = set.intersection(*temp)\n",
    "    \n",
    "    return edges"
   ]
  },
  {
   "cell_type": "code",
   "execution_count": null,
   "id": "adapted-railway",
   "metadata": {},
   "outputs": [],
   "source": [
    "sc_datasets = ['E-GEOD-12649', 'E-GEOD-21138', 'E-GEOD-21935', 'E-GEOD-53987', 'GSE93987']\n",
    "bp_datasets = [\"E-GEOD-46449\", \"E-GEOD-5388\", \"E-GEOD-5392\", \"E-GEOD-53987\", \"GSE12649\"]\n",
    "dm_datasets = [\"GSE13760\", \"GSE15653\", \"GSE20966\", \"GSE23343\"]\n",
    "\n",
    "sc_networks = []\n",
    "bp_networks = []\n",
    "dm_networks = []\n",
    "\n",
    "for dataset in sc_datasets:\n",
    "    df = pd.read_table(f\"../co-exp/scz/{dataset}_coexp_network_edges.tsv\")\n",
    "    \n",
    "    df[\"from\"] = df[\"from\"].map(lambda x: x.split('.')[0])\n",
    "    df[\"to\"] = df[\"to\"].map(lambda x: x.split('.')[0])\n",
    "\n",
    "    net = nx.from_pandas_edgelist(df, source='from', target='to', edge_attr='weight', create_using=nx.Graph)\n",
    "    \n",
    "    sc_networks.append(net)\n",
    "\n",
    "for dataset in bp_datasets:\n",
    "    df = pd.read_table(f\"../co-exp/bp/{dataset}_coexp_network_edges.tsv\")\n",
    "    \n",
    "    df[\"from\"] = df[\"from\"].map(lambda x: x.split('.')[0])\n",
    "    df[\"to\"] = df[\"to\"].map(lambda x: x.split('.')[0])\n",
    "\n",
    "    net = nx.from_pandas_edgelist(df, source='from', target='to', edge_attr='weight', create_using=nx.Graph)\n",
    "    \n",
    "    bp_networks.append(net)\n",
    "    \n",
    "for dataset in dm_datasets:\n",
    "    df = pd.read_table(f\"../../results/dm/{dataset}_coexp_network_edges.tsv\")\n",
    "    \n",
    "    df[\"from\"] = df[\"from\"].map(lambda x: x.split('.')[0])\n",
    "    df[\"to\"] = df[\"to\"].map(lambda x: x.split('.')[0])\n",
    "\n",
    "    net = nx.from_pandas_edgelist(df, source='from', target='to', edge_attr='weight', create_using=nx.Graph)\n",
    "    \n",
    "    dm_networks.append(net)"
   ]
  },
  {
   "cell_type": "code",
   "execution_count": null,
   "id": "frequent-inside",
   "metadata": {},
   "outputs": [],
   "source": [
    "common_edges = edge_overlap(sc_networks + bp_networks)\n",
    "test_set = {node for edge in common_edges for node in edge}\n",
    "\n",
    "t2dm_edges = edge_overlap(dm_networks)\n",
    "t2dm_set = {node for edge in t2dm_edges for node in edge}"
   ]
  },
  {
   "cell_type": "code",
   "execution_count": null,
   "id": "trying-redhead",
   "metadata": {},
   "outputs": [],
   "source": [
    "with open('common_edges.pkl', 'wb') as f:\n",
    "    pickle.dump(common_edges, f)"
   ]
  },
  {
   "cell_type": "code",
   "execution_count": null,
   "id": "warming-milwaukee",
   "metadata": {},
   "outputs": [],
   "source": [
    "psych_df = run_ora(\n",
    "    gmt_path = \"kegg.gmt\", \n",
    "    set_gene_symbols = test_set, \n",
    "    min_size = 15, \n",
    "    max_size = 500\n",
    ")\n",
    "\n",
    "t2dm_only_df = run_ora(\n",
    "    gmt_path = \"kegg.gmt\", \n",
    "    set_gene_symbols = t2dm_set, \n",
    "    min_size = 15, \n",
    "    max_size = 500\n",
    ")"
   ]
  },
  {
   "cell_type": "code",
   "execution_count": null,
   "id": "muslim-vegetarian",
   "metadata": {
    "scrolled": false
   },
   "outputs": [],
   "source": [
    "with open(\"kegg.json\", \"r\") as f:\n",
    "    pathway_names = json.load(f)\n",
    "\n",
    "psych_enriched_df = psych_df[psych_df['q_value'] <= 0.05].copy()\n",
    "psych_enriched_df[\"pathway_name\"] = psych_enriched_df[\"pathway_id\"].apply(lambda x: pathway_names[x])\n",
    "\n",
    "dm_enriched_df = dm_df[dm_df['q_value'] <= 0.05].copy()\n",
    "dm_enriched_df[\"pathway_name\"] = dm_enriched_df[\"pathway_id\"].apply(lambda x: pathway_names[x])"
   ]
  },
  {
   "cell_type": "code",
   "execution_count": null,
   "id": "infectious-dining",
   "metadata": {},
   "outputs": [],
   "source": [
    "psych_enriched_df.to_csv(\"co-exp_psych_enrich.tsv\", sep=\"\\t\")\n",
    "dm_enriched_df.to_csv(\"co-exp_dm_enrich.tsv\", sep=\"\\t\")"
   ]
  },
  {
   "cell_type": "code",
   "execution_count": null,
   "id": "unauthorized-blind",
   "metadata": {},
   "outputs": [],
   "source": [
    "names = list({node for edge in common_edges for node in edge})\n",
    "edge_graph = nx.Graph()\n",
    "edge_graph.add_edges_from(common_edges)\n",
    "\n",
    "    \"bbox\": (3000, 3000),\n",
    "    \"margin\": 300,\n",
    "    \"vertex_size\": 18,\n",
    "    \"vertex_label_size\": 20,\n",
    "    \"vertex_label_dist\": 10,\n",
    "    \"edge_curved\": False,\n",
    "}\n",
    "\n",
    "\n",
    "def render(network, names):\n",
    "    \"\"\"Plot overlap.\"\"\"\n",
    "    graph: igraph.Graph = igraph.Graph()\n",
    "    graph.add_vertices(names)\n",
    "    graph.vs[\"color\"] = [\"#ff0000\" if g in wl_genes else \"#00bcff\" for g in names]\n",
    "    graph.vs[\"label\"] = names\n",
    "\n",
    "    # Add nodes and edges to the graph\n",
    "    for source, target in network.edges():\n",
    "\n",
    "        graph.add_edge(\n",
    "            source,\n",
    "            target,\n",
    "        )\n",
    "        graph.add_edge(\n",
    "            target,\n",
    "            source,\n",
    "        )\n",
    "\n",
    "    visual_style = BASE_VISUAL_STYLE.copy()\n",
    "    visual_style[\"layout\"] = graph.layout('fruchterman_reingold', niter=5000)\n",
    "    # Plot the graph\n",
    "    igraph.plot(graph, 'co-exp_network.png', **visual_style)"
   ]
  },
  {
   "cell_type": "code",
   "execution_count": null,
   "id": "indirect-gentleman",
   "metadata": {
    "scrolled": false
   },
   "outputs": [],
   "source": [
    "render(edge_graph, names)"
   ]
  }
 ],
 "metadata": {
  "kernelspec": {
   "display_name": "Python 3",
   "language": "python",
   "name": "python3"
  },
  "language_info": {
   "codemirror_mode": {
    "name": "ipython",
    "version": 3
   },
   "file_extension": ".py",
   "mimetype": "text/x-python",
   "name": "python",
   "nbconvert_exporter": "python",
   "pygments_lexer": "ipython3",
   "version": "3.7.8"
  }
 },
 "nbformat": 4,
 "nbformat_minor": 5
}
