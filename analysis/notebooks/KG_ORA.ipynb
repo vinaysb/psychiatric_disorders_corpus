{
 "cells": [
  {
   "cell_type": "code",
   "execution_count": null,
   "id": "cubic-region",
   "metadata": {},
   "outputs": [],
   "source": [
    "import networkx as nx\n",
    "import pandas as pd\n",
    "from ora import run_ora, gmt_parser\n",
    "import numpy as np\n",
    "import gseapy\n",
    "import pickle\n",
    "import igraph\n",
    "import json\n",
    "import networkx as nx\n",
    "import pandas as pd\n",
    "import json"
   ]
  },
  {
   "cell_type": "code",
   "execution_count": null,
   "id": "parallel-number",
   "metadata": {},
   "outputs": [],
   "source": [
    "sc_bel_df = pd.read_table(\"../bel_graphs/schizophrenia_kg.tsv\")\n",
    "bp_bel_df = pd.read_table(\"../bel_graphs/bipolar_disorder_kg.tsv\")\n",
    "dm_bel_df = pd.read_table(\"../bel_graphs/t2dm_kg.tsv\")"
   ]
  },
  {
   "cell_type": "code",
   "execution_count": null,
   "id": "arranged-chance",
   "metadata": {},
   "outputs": [],
   "source": [
    "sc_common_edges = [(sc_bel_df.at[row, \"source\"], sc_bel_df.at[row, \"target\"]) for row in sc_bel_df.index]\n",
    "bp_common_edges = [(bp_bel_df.at[row, \"source\"], bp_bel_df.at[row, \"target\"]) for row in bp_bel_df.index]\n",
    "dm_common_edges = [(dm_bel_df.at[row, \"source\"], dm_bel_df.at[row, \"target\"]) for row in dm_bel_df.index]"
   ]
  },
  {
   "cell_type": "code",
   "execution_count": null,
   "id": "frequent-inside",
   "metadata": {},
   "outputs": [],
   "source": [
    "sc_set = {node for edge in sc_common_edges for node in edge}\n",
    "bp_set = {node for edge in bp_common_edges for node in edge}\n",
    "dm_set = {node for edge in dm_common_edges for node in edge}"
   ]
  },
  {
   "cell_type": "code",
   "execution_count": null,
   "id": "fewer-layout",
   "metadata": {},
   "outputs": [],
   "source": [
    "len(sc_set), len(bp_set), len(dm_set)"
   ]
  },
  {
   "cell_type": "code",
   "execution_count": null,
   "id": "warming-milwaukee",
   "metadata": {},
   "outputs": [],
   "source": [
    "sc_ora_df = run_ora(\n",
    "    gmt_path = \"kegg.gmt\", \n",
    "    set_gene_symbols = sc_set, \n",
    "    min_size = 15, \n",
    "    max_size = 500\n",
    ")\n",
    "\n",
    "bp_ora_df = run_ora(\n",
    "    gmt_path = \"kegg.gmt\", \n",
    "    set_gene_symbols = bp_set, \n",
    "    min_size = 15, \n",
    "    max_size = 500\n",
    ")\n",
    "\n",
    "dm_ora_df = run_ora(\n",
    "    gmt_path = \"kegg.gmt\", \n",
    "    set_gene_symbols = dm_set, \n",
    "    min_size = 15, \n",
    "    max_size = 500\n",
    ")"
   ]
  },
  {
   "cell_type": "code",
   "execution_count": null,
   "id": "muslim-vegetarian",
   "metadata": {
    "scrolled": false
   },
   "outputs": [],
   "source": [
    "with open(\"kegg.json\", \"r\") as f:\n",
    "    pathway_names = json.load(f)\n",
    "\n",
    "enriched_sc_ora_df = sc_ora_df[sc_ora_df['q_value'] <= 0.05].copy()\n",
    "enriched_sc_ora_df[\"pathway_name\"] = enriched_sc_ora_df[\"pathway_id\"].apply(lambda x: pathway_names[x])\n",
    "\n",
    "enriched_bp_ora_df = bp_ora_df[bp_ora_df['q_value'] <= 0.05].copy()\n",
    "enriched_bp_ora_df[\"pathway_name\"] = enriched_bp_ora_df[\"pathway_id\"].apply(lambda x: pathway_names[x])\n",
    "\n",
    "enriched_dm_ora_df = dm_ora_df[dm_ora_df['q_value'] <= 0.05].copy()\n",
    "enriched_dm_ora_df[\"pathway_name\"] = enriched_dm_ora_df[\"pathway_id\"].apply(lambda x: pathway_names[x])"
   ]
  },
  {
   "cell_type": "code",
   "execution_count": null,
   "id": "loaded-check",
   "metadata": {},
   "outputs": [],
   "source": [
    "enriched_sc_ora_df.to_csv(\"sc_enrich_ora.tsv\", sep=\"\\t\")\n",
    "enriched_bp_ora_df.to_csv(\"bp_enrich_ora.tsv\", sep=\"\\t\")\n",
    "enriched_dm_ora_df.to_csv(\"dm_enrich_ora.tsv\", sep=\"\\t\")"
   ]
  },
  {
   "cell_type": "code",
   "execution_count": null,
   "id": "chronic-puppy",
   "metadata": {},
   "outputs": [],
   "source": [
    "kegg_map = json.load(open(\"kegg.json\", \"r\"))\n",
    "\n",
    "with open(\"kegg.gmt\") as genesets:\n",
    "    gmt_data = {\n",
    "        kegg_map[line.strip().split(\"\\t\")[0]]: line.strip().split(\"\\t\")[2:] \n",
    "        for line in genesets.readlines()\n",
    "    }"
   ]
  },
  {
   "cell_type": "code",
   "execution_count": null,
   "id": "desirable-workshop",
   "metadata": {},
   "outputs": [],
   "source": [
    "for pathway in enriched_sc_ora_df[\"pathway_name\"]:\n",
    "    pathway_data = gmt_data[pathway]\n",
    "    count = 0\n",
    "    \n",
    "    for gene in pathway_data:\n",
    "        if any(sc_bel_df[\"source\"].str.contains(gene)) or any(sc_bel_df[\"target\"].str.contains(gene)):\n",
    "            count += 1\n",
    "    \n",
    "    if count/len(pathway_data) > 0.10:\n",
    "        print(f\"{pathway}: {count/len(pathway_data) * 100:.2f} ({count}/{len(pathway_data)})\")"
   ]
  },
  {
   "cell_type": "code",
   "execution_count": null,
   "id": "normal-partition",
   "metadata": {},
   "outputs": [],
   "source": [
    "for pathway in enriched_bp_ora_df[\"pathway_name\"]:\n",
    "    pathway_data = gmt_data[pathway]\n",
    "    count = 0\n",
    "    \n",
    "    for gene in pathway_data:\n",
    "        if any(bp_bel_df[\"source\"].str.contains(gene)) or any(bp_bel_df[\"target\"].str.contains(gene)):\n",
    "            count += 1\n",
    "    \n",
    "    if count/len(pathway_data) > 0.10:\n",
    "        print(f\"{pathway}: {count/len(pathway_data) * 100:.2f} ({count}/{len(pathway_data)})\")"
   ]
  },
  {
   "cell_type": "code",
   "execution_count": null,
   "id": "spoken-animation",
   "metadata": {},
   "outputs": [],
   "source": [
    "for pathway in enriched_dm_ora_df[\"pathway_name\"]:\n",
    "    pathway_data = gmt_data[pathway]\n",
    "    count = 0\n",
    "    \n",
    "    for gene in pathway_data:\n",
    "        if any(dm_bel_df[\"source\"].str.contains(gene)) or any(dm_bel_df[\"target\"].str.contains(gene)):\n",
    "            count += 1\n",
    "    \n",
    "    if count/len(pathway_data) > 0.10:\n",
    "        print(f\"{pathway}: {count/len(pathway_data) * 100:.2f} ({count}/{len(pathway_data)})\")"
   ]
  },
  {
   "cell_type": "code",
   "execution_count": null,
   "id": "inner-wichita",
   "metadata": {},
   "outputs": [],
   "source": [
    "import matplotlib.pyplot as plt\n",
    "from matplotlib_venn import venn3\n",
    "\n",
    "plt.figure(figsize=(7,7))\n",
    "\n",
    "set1 = set(enriched_sc_ora_df[\"pathway_id\"])\n",
    "set2 = set(enriched_bp_ora_df[\"pathway_id\"])\n",
    "set3 = set(enriched_dm_ora_df[\"pathway_id\"])\n",
    "\n",
    "intersection_all = len(set1.intersection(set3.intersection(set2)))\n",
    "\n",
    "set1_label = \"SCZ KG\"\n",
    "set2_label = \"BPD KG\"\n",
    "set3_label = \"T2DM KG\"\n",
    "\n",
    "v = venn3(subsets=(1, 1, 1, 1, 1, 1, 1), set_labels=(set1_label, set2_label, set3_label))\n",
    "v.get_label_by_id('001').set_text(len(set3 - set2 - set1))\n",
    "v.get_label_by_id('010').set_text(len(set2 - set1 - set3))\n",
    "v.get_label_by_id('100').set_text(len(set1 - set2 - set3))\n",
    "v.get_label_by_id('011').set_text(len(set2.intersection(set3)) - intersection_all)\n",
    "v.get_label_by_id('101').set_text(len(set1.intersection(set3)) - intersection_all)\n",
    "v.get_label_by_id('110').set_text(len(set2.intersection(set1)) - intersection_all)\n",
    "v.get_label_by_id('111').set_text(intersection_all)\n",
    "\n",
    "v.get_label_by_id('001').set_family(\"sans-serif\")\n",
    "v.get_label_by_id('010').set_family(\"sans-serif\")\n",
    "v.get_label_by_id('100').set_family(\"sans-serif\")\n",
    "v.get_label_by_id('011').set_family(\"sans-serif\")\n",
    "v.get_label_by_id('101').set_family(\"sans-serif\")\n",
    "v.get_label_by_id('110').set_family(\"sans-serif\")\n",
    "v.get_label_by_id('111').set_family(\"sans-serif\")\n",
    "v.get_label_by_id('A').set_family(\"sans-serif\")\n",
    "v.get_label_by_id('B').set_family(\"sans-serif\")\n",
    "v.get_label_by_id('C').set_family(\"sans-serif\")\n",
    "\n",
    "v.get_label_by_id('001').set_fontsize(18)\n",
    "v.get_label_by_id('010').set_fontsize(18)\n",
    "v.get_label_by_id('100').set_fontsize(18)\n",
    "v.get_label_by_id('011').set_fontsize(18)\n",
    "v.get_label_by_id('101').set_fontsize(18)\n",
    "v.get_label_by_id('110').set_fontsize(18)\n",
    "v.get_label_by_id('111').set_fontsize(18)\n",
    "v.get_label_by_id('A').set_fontsize(18)\n",
    "v.get_label_by_id('B').set_fontsize(18)\n",
    "v.get_label_by_id('C').set_fontsize(18)\n",
    "\n",
    "v.get_patch_by_id('001').set_color(\"#ff2b95\")\n",
    "v.get_patch_by_id('010').set_color(\"#35b44a\")\n",
    "v.get_patch_by_id('100').set_color(\"#e51e25\")\n",
    "v.get_patch_by_id('011').set_color(\"#1cade4\")\n",
    "v.get_patch_by_id('110').set_color(\"#ffaa4f\")\n",
    "v.get_patch_by_id('111').set_color(\"#0008ff\")\n",
    "\n",
    "v.get_patch_by_id('001').set_alpha(0.45)\n",
    "v.get_patch_by_id('010').set_alpha(0.45)\n",
    "v.get_patch_by_id('100').set_alpha(0.45)\n",
    "v.get_patch_by_id('011').set_alpha(0.45)\n",
    "v.get_patch_by_id('101').set_alpha(0.35)\n",
    "v.get_patch_by_id('110').set_alpha(0.45)\n",
    "v.get_patch_by_id('111').set_alpha(0.45)\n",
    "\n",
    "plt.title(\"Overlap of enriched pathways between T2DM and psychiatric disorder KGs\", fontsize=22, y=1.1)\n",
    "\n",
    "plt.savefig(\"venn3.png\", bbox_inches=\"tight\")"
   ]
  }
 ],
 "metadata": {
  "kernelspec": {
   "display_name": "Python 3",
   "language": "python",
   "name": "python3"
  },
  "language_info": {
   "codemirror_mode": {
    "name": "ipython",
    "version": 3
   },
   "file_extension": ".py",
   "mimetype": "text/x-python",
   "name": "python",
   "nbconvert_exporter": "python",
   "pygments_lexer": "ipython3",
   "version": "3.7.8"
  }
 },
 "nbformat": 4,
 "nbformat_minor": 5
}
