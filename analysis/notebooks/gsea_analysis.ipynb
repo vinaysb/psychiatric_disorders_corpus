{
 "cells": [
  {
   "cell_type": "code",
   "execution_count": null,
   "id": "convinced-irrigation",
   "metadata": {},
   "outputs": [],
   "source": [
    "import pandas as pd\n",
    "import pickle\n",
    "import gseapy\n",
    "from itertools import combinations\n",
    "from collections import OrderedDict"
   ]
  },
  {
   "cell_type": "code",
   "execution_count": null,
   "id": "intermediate-feedback",
   "metadata": {},
   "outputs": [],
   "source": [
    "sc_datasets = ['E-GEOD-12649', 'E-GEOD-21138', 'E-GEOD-21935', 'E-GEOD-53987', 'GSE93987']\n",
    "bp_datasets = [\"E-GEOD-46449\", \"E-GEOD-5388\", \"E-GEOD-5392\", \"E-GEOD-53987\", \"GSE12649\"]\n",
    "dm_datasets = [\"GSE13760\", \"GSE15653\", \"GSE20966\", \"GSE23343\"]\n",
    "\n",
    "raw_results = {}\n",
    "results = {}\n",
    "\n",
    "for i, dataset in enumerate(sc_datasets):\n",
    "    with open(f'gsea_res/sc_{dataset}.pkl', 'rb') as f:\n",
    "        gsea = pickle.load(f)\n",
    "\n",
    "    raw_results[f\"sc_{dataset}\"] = gsea.res2d\n",
    "    results[f\"sc_{dataset}\"] = raw_results[f\"sc_{dataset}\"][raw_results[f\"sc_{dataset}\"]['adj_pval'] <= 0.05]\n",
    "\n",
    "for i, dataset in enumerate(bp_datasets):\n",
    "    with open(f'gsea_res/bp_{dataset}.pkl', 'rb') as f:\n",
    "        gsea = pickle.load(f)\n",
    "\n",
    "    raw_results[f\"bp_{dataset}\"] = gsea.res2d\n",
    "    \n",
    "    results[f\"bp_{dataset}\"] = raw_results[f\"bp_{dataset}\"][raw_results[f\"bp_{dataset}\"]['adj_pval'] <= 0.05]\n",
    "    \n",
    "for i, dataset in enumerate(bp_datasets):\n",
    "    with open(f'gsea_res/dm_{dataset}.pkl', 'rb') as f:\n",
    "        gsea = pickle.load(f)\n",
    "\n",
    "    raw_results[f\"dm_{dataset}\"] = gsea.res2d\n",
    "    \n",
    "    results[f\"dm_{dataset}\"] = raw_results[f\"dm_{dataset}\"][raw_results[f\"dm_{dataset}\"]['adj_pval'] <= 0.05]"
   ]
  },
  {
   "cell_type": "code",
   "execution_count": null,
   "id": "little-evidence",
   "metadata": {},
   "outputs": [],
   "source": [
    "import json\n",
    "\n",
    "with open(\"kegg.json\", \"r\") as f:\n",
    "    kegg = json.load(f)"
   ]
  },
  {
   "cell_type": "code",
   "execution_count": null,
   "id": "damaged-hungary",
   "metadata": {},
   "outputs": [],
   "source": [
    "pathways = []\n",
    "for dataset in results:\n",
    "    if 'sc' in dataset:\n",
    "        pathways.append(set(results[dataset].index.values.tolist()))\n",
    "\n",
    "for i in set.intersection(*pathways):\n",
    "    print(kegg[i])"
   ]
  },
  {
   "cell_type": "code",
   "execution_count": null,
   "id": "enabling-builder",
   "metadata": {},
   "outputs": [],
   "source": [
    "pathways = []\n",
    "for dataset in results:\n",
    "    if 'bp' in dataset:\n",
    "        pathways.append(set(results[dataset].index.values.tolist()))\n",
    "\n",
    "for i in set.intersection(*pathways):\n",
    "    print(kegg[i])"
   ]
  },
  {
   "cell_type": "code",
   "execution_count": null,
   "id": "religious-international",
   "metadata": {},
   "outputs": [],
   "source": [
    "pathways = []\n",
    "for dataset in results:\n",
    "    if 'dm' in dataset:\n",
    "        pathways.append(set(results[dataset].index.values.tolist()))\n",
    "\n",
    "for i in set.intersection(*pathways):\n",
    "    print(kegg[i])"
   ]
  }
 ],
 "metadata": {
  "kernelspec": {
   "display_name": "Python 3",
   "language": "python",
   "name": "python3"
  },
  "language_info": {
   "codemirror_mode": {
    "name": "ipython",
    "version": 3
   },
   "file_extension": ".py",
   "mimetype": "text/x-python",
   "name": "python",
   "nbconvert_exporter": "python",
   "pygments_lexer": "ipython3",
   "version": "3.7.8"
  }
 },
 "nbformat": 4,
 "nbformat_minor": 5
}
