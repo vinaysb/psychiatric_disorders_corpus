{
 "cells": [
  {
   "cell_type": "code",
   "execution_count": null,
   "id": "boring-payment",
   "metadata": {},
   "outputs": [],
   "source": [
    "suppressMessages(library(MetaVolcanoR))\n",
    "suppressMessages(library(data.table))\n",
    "suppressMessages(library(dplyr))"
   ]
  },
  {
   "cell_type": "markdown",
   "id": "lucky-evidence",
   "metadata": {},
   "source": [
    "## Schizophrenia"
   ]
  },
  {
   "cell_type": "code",
   "execution_count": null,
   "id": "ultimate-familiar",
   "metadata": {},
   "outputs": [],
   "source": [
    "datadir = \"../data/Scz/\"\n",
    "datasets = c('E-GEOD-12649', 'E-GEOD-21138', 'E-GEOD-21935', 'E-GEOD-53987', 'GSE93987')\n",
    "\n",
    "scz_diffexplist = list()\n",
    "\n",
    "for (i in 1:length(datasets)){\n",
    "    fname_exprsSet = paste0(datadir, datasets[i], \"_diffex.tsv\")\n",
    "    \n",
    "    data = read.table(file = fname_exprsSet, sep = '\\t', header = TRUE)\n",
    "    \n",
    "    data = subset(data, select=-X)\n",
    "    \n",
    "    scz_diffexplist[[datasets[i]]] = data\n",
    "}"
   ]
  },
  {
   "cell_type": "code",
   "execution_count": null,
   "id": "alike-alcohol",
   "metadata": {},
   "outputs": [],
   "source": [
    "scz_meta_degs_vote <- votecount_mv(diffexp=scz_diffexplist,\n",
    "                   pcriteria=\"adj.P.Val\",\n",
    "                   foldchangecol='logFC', \n",
    "                   genenamecol='ID',\n",
    "                   geneidcol=NULL,\n",
    "                   pvalue=0.05,\n",
    "                   foldchange=0, \n",
    "                   metathr=0.01,\n",
    "                   collaps=FALSE,\n",
    "                   jobname=\"MetaVolcano\", \n",
    "                   outputfolder=\".\",\n",
    "                   draw='PDF')"
   ]
  },
  {
   "cell_type": "markdown",
   "id": "opening-robertson",
   "metadata": {},
   "source": [
    "## Bipolar"
   ]
  },
  {
   "cell_type": "code",
   "execution_count": null,
   "id": "atlantic-queen",
   "metadata": {},
   "outputs": [],
   "source": [
    "datadir = \"../data/bipolar/\"\n",
    "datasets = c(\"E-GEOD-46449\", \"E-GEOD-5388\", \"E-GEOD-5392\", \"E-GEOD-53987\", \"GSE12649\")\n",
    "\n",
    "bp_diffexplist = list()\n",
    "\n",
    "for (i in 1:length(datasets)){\n",
    "    fname_exprsSet = paste0(datadir, datasets[i], \"_diffex.tsv\")\n",
    "    \n",
    "    data = read.table(file = fname_exprsSet, sep = '\\t', header = TRUE)\n",
    "    \n",
    "    data = subset(data, select=-X)\n",
    "    \n",
    "    bp_diffexplist[[datasets[i]]] = data\n",
    "}"
   ]
  },
  {
   "cell_type": "code",
   "execution_count": null,
   "id": "looking-wheel",
   "metadata": {},
   "outputs": [],
   "source": [
    "bp_meta_degs_vote <- votecount_mv(diffexp=bp_diffexplist,\n",
    "                   pcriteria=\"adj.P.Val\",\n",
    "                   foldchangecol='logFC', \n",
    "                   genenamecol='ID',\n",
    "                   geneidcol=NULL,\n",
    "                   pvalue=0.05,\n",
    "                   foldchange=0, \n",
    "                   metathr=0.01,\n",
    "                   collaps=FALSE,\n",
    "                   jobname=\"MetaVolcano\", \n",
    "                   outputfolder=\".\",\n",
    "                   draw='PDF')"
   ]
  },
  {
   "cell_type": "markdown",
   "id": "macro-answer",
   "metadata": {},
   "source": [
    "## Write results to tsv files"
   ]
  },
  {
   "cell_type": "code",
   "execution_count": null,
   "id": "varying-terrorist",
   "metadata": {},
   "outputs": [],
   "source": [
    "write.table(scz_meta_degs_vote@metaresult, file = \"../sc_meta_analysis.tsv\", row.names=TRUE, sep=\"\\t\", quote = FALSE)\n",
    "write.table(bp_meta_degs_vote@metaresult, file = \"../bp_meta_analysis.tsv\", row.names=TRUE, sep=\"\\t\", quote = FALSE)"
   ]
  },
  {
   "cell_type": "code",
   "execution_count": null,
   "id": "intermediate-concern",
   "metadata": {},
   "outputs": [],
   "source": []
  }
 ],
 "metadata": {
  "kernelspec": {
   "display_name": "R",
   "language": "R",
   "name": "ir"
  },
  "language_info": {
   "codemirror_mode": "r",
   "file_extension": ".r",
   "mimetype": "text/x-r-source",
   "name": "R",
   "pygments_lexer": "r",
   "version": "4.0.3"
  }
 },
 "nbformat": 4,
 "nbformat_minor": 5
}
