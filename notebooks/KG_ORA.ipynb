{
 "cells": [
  {
   "cell_type": "code",
   "execution_count": null,
   "id": "cubic-region",
   "metadata": {},
   "outputs": [],
   "source": [
    "import networkx as nx\n",
    "import pandas as pd\n",
    "from ora import run_ora, gmt_parser\n",
    "import numpy as np\n",
    "import gseapy\n",
    "import pickle\n",
    "import igraph\n",
    "import json\n",
    "import networkx as nx\n",
    "import pandas as pd\n",
    "import json"
   ]
  },
  {
   "cell_type": "code",
   "execution_count": null,
   "id": "parallel-number",
   "metadata": {},
   "outputs": [],
   "source": [
    "sc_bel_df = pd.read_table(\"../bel_graphs/sc_bel_extend.tsv\")\n",
    "bp_bel_df = pd.read_table(\"../bel_graphs/bp_bel_extend.tsv\")"
   ]
  },
  {
   "cell_type": "code",
   "execution_count": null,
   "id": "arranged-chance",
   "metadata": {},
   "outputs": [],
   "source": [
    "sc_common_edges = [(sc_bel_df.at[row, \"source\"], sc_bel_df.at[row, \"target\"]) for row in sc_bel_df.index]\n",
    "bp_common_edges = [(bp_bel_df.at[row, \"source\"], bp_bel_df.at[row, \"target\"]) for row in bp_bel_df.index]"
   ]
  },
  {
   "cell_type": "code",
   "execution_count": null,
   "id": "frequent-inside",
   "metadata": {},
   "outputs": [],
   "source": [
    "sc_set = {node for edge in sc_common_edges for node in edge}\n",
    "bp_set = {node for edge in bp_common_edges for node in edge}"
   ]
  },
  {
   "cell_type": "code",
   "execution_count": null,
   "id": "fewer-layout",
   "metadata": {},
   "outputs": [],
   "source": [
    "len(sc_set), len(bp_set)"
   ]
  },
  {
   "cell_type": "code",
   "execution_count": null,
   "id": "warming-milwaukee",
   "metadata": {},
   "outputs": [],
   "source": [
    "sc_ora_df = run_ora(\n",
    "    gmt_path = \"kegg.gmt\", \n",
    "    set_gene_symbols = sc_set, \n",
    "    min_size = 15, \n",
    "    max_size = 500\n",
    ")\n",
    "\n",
    "bp_ora_df = run_ora(\n",
    "    gmt_path = \"kegg.gmt\", \n",
    "    set_gene_symbols = bp_set, \n",
    "    min_size = 15, \n",
    "    max_size = 500\n",
    ")"
   ]
  },
  {
   "cell_type": "code",
   "execution_count": null,
   "id": "muslim-vegetarian",
   "metadata": {
    "scrolled": false
   },
   "outputs": [],
   "source": [
    "with open(\"kegg.json\", \"r\") as f:\n",
    "    pathway_names = json.load(f)\n",
    "\n",
    "enriched_sc_ora_df = sc_ora_df[sc_ora_df['q_value'] <= 0.05].copy()\n",
    "enriched_sc_ora_df[\"pathway_name\"] = enriched_sc_ora_df[\"pathway_id\"].apply(lambda x: pathway_names[x])\n",
    "\n",
    "enriched_bp_ora_df = bp_ora_df[bp_ora_df['q_value'] <= 0.05].copy()\n",
    "enriched_bp_ora_df[\"pathway_name\"] = enriched_bp_ora_df[\"pathway_id\"].apply(lambda x: pathway_names[x])"
   ]
  },
  {
   "cell_type": "code",
   "execution_count": null,
   "id": "loaded-check",
   "metadata": {},
   "outputs": [],
   "source": [
    "enriched_sc_ora_df.to_csv(\"sc_enrich_ora.tsv\", sep=\"\\t\")\n",
    "enriched_bp_ora_df.to_csv(\"bp_enrich_ora.tsv\", sep=\"\\t\")"
   ]
  },
  {
   "cell_type": "code",
   "execution_count": null,
   "id": "chronic-puppy",
   "metadata": {},
   "outputs": [],
   "source": [
    "kegg_map = json.load(open(\"kegg.json\", \"r\"))\n",
    "\n",
    "with open(\"kegg.gmt\") as genesets:\n",
    "    gmt_data = {\n",
    "        kegg_map[line.strip().split(\"\\t\")[0]]: line.strip().split(\"\\t\")[2:] \n",
    "        for line in genesets.readlines()\n",
    "    }"
   ]
  },
  {
   "cell_type": "code",
   "execution_count": null,
   "id": "desirable-workshop",
   "metadata": {},
   "outputs": [],
   "source": [
    "for pathway in enriched_sc_ora_df[\"pathway_name\"]:\n",
    "    pathway_data = gmt_data[pathway]\n",
    "    count = 0\n",
    "    \n",
    "    for gene in pathway_data:\n",
    "        if any(sc_bel_df[\"source\"].str.contains(gene)) or any(sc_bel_df[\"target\"].str.contains(gene)):\n",
    "            count += 1\n",
    "    \n",
    "    if count/len(pathway_data) > 0.10:\n",
    "        print(f\"{pathway}: {count/len(pathway_data) * 100:.2f} ({count}/{len(pathway_data)})\")"
   ]
  },
  {
   "cell_type": "code",
   "execution_count": null,
   "id": "normal-partition",
   "metadata": {},
   "outputs": [],
   "source": [
    "for pathway in enriched_bp_ora_df[\"pathway_name\"]:\n",
    "    pathway_data = gmt_data[pathway]\n",
    "    count = 0\n",
    "    \n",
    "    for gene in pathway_data:\n",
    "        if any(bp_bel_df[\"source\"].str.contains(gene)) or any(bp_bel_df[\"target\"].str.contains(gene)):\n",
    "            count += 1\n",
    "    \n",
    "    if count/len(pathway_data) > 0.10:\n",
    "        print(f\"{pathway}: {count/len(pathway_data) * 100:.2f} ({count}/{len(pathway_data)})\")"
   ]
  }
 ],
 "metadata": {
  "kernelspec": {
   "display_name": "Python 3",
   "language": "python",
   "name": "python3"
  },
  "language_info": {
   "codemirror_mode": {
    "name": "ipython",
    "version": 3
   },
   "file_extension": ".py",
   "mimetype": "text/x-python",
   "name": "python",
   "nbconvert_exporter": "python",
   "pygments_lexer": "ipython3",
   "version": "3.7.8"
  }
 },
 "nbformat": 4,
 "nbformat_minor": 5
}
